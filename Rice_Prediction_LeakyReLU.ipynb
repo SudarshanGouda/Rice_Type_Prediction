{
 "cells": [
  {
   "cell_type": "markdown",
   "id": "d8cbc9c2",
   "metadata": {},
   "source": [
    "# Rice_Prediction_CNN_LeakyReLU"
   ]
  },
  {
   "cell_type": "markdown",
   "id": "0bb1291d",
   "metadata": {},
   "source": [
    "## Import Library"
   ]
  },
  {
   "cell_type": "code",
   "execution_count": 17,
   "id": "6a0ce6e8",
   "metadata": {},
   "outputs": [],
   "source": [
    "import pandas as pd\n",
    "import numpy as np\n",
    "import matplotlib.pyplot as plt\n",
    "from tensorflow.keras.preprocessing.image import ImageDataGenerator\n",
    "from tensorflow.keras import Sequential\n",
    "from tensorflow.keras.layers import Dense,Conv2D,MaxPooling2D,Dropout,Flatten\n",
    "from keras.layers import LeakyReLU\n",
    "from tensorflow.keras.callbacks import EarlyStopping\n",
    "import splitfolders"
   ]
  },
  {
   "cell_type": "markdown",
   "id": "87a6a727",
   "metadata": {},
   "source": [
    "## Split_Folder"
   ]
  },
  {
   "cell_type": "code",
   "execution_count": 18,
   "id": "552dd0e2",
   "metadata": {},
   "outputs": [],
   "source": [
    "input_dir='D:\\\\DATA Science\\\\DEEP LEARNING\\\\CNN\\\\Rice_Prediction\\\\Data_set\\\\Rice_Image_Dataset'\n",
    "output_dir='D:\\\\DATA Science\\\\DEEP LEARNING\\\\CNN\\\\Rice_Prediction\\\\Data_set\\\\Split_img'"
   ]
  },
  {
   "cell_type": "code",
   "execution_count": 19,
   "id": "4654601c",
   "metadata": {},
   "outputs": [],
   "source": [
    "#splitfolders.fixed(input=input_dir,output=output_dir,fixed=(500,100,100),seed=1337)"
   ]
  },
  {
   "cell_type": "markdown",
   "id": "1efa7a0e",
   "metadata": {},
   "source": [
    "## Data Preparation"
   ]
  },
  {
   "cell_type": "code",
   "execution_count": 20,
   "id": "bd1f8c4f",
   "metadata": {},
   "outputs": [],
   "source": [
    "dataGen=ImageDataGenerator(rescale=1/255)"
   ]
  },
  {
   "cell_type": "code",
   "execution_count": 21,
   "id": "ddf2734c",
   "metadata": {},
   "outputs": [],
   "source": [
    "train_dir='D:\\\\DATA Science\\\\DEEP LEARNING\\\\CNN\\\\Rice_Prediction\\\\Data_set\\\\Split_img\\\\train'\n",
    "test_dir='D:\\\\DATA Science\\\\DEEP LEARNING\\\\CNN\\\\Rice_Prediction\\\\Data_set\\\\Split_img\\\\test'\n",
    "val_dir='D:\\\\DATA Science\\\\DEEP LEARNING\\\\CNN\\\\Rice_Prediction\\\\Data_set\\\\Split_img\\\\val'"
   ]
  },
  {
   "cell_type": "code",
   "execution_count": 22,
   "id": "9336ca51",
   "metadata": {},
   "outputs": [
    {
     "name": "stdout",
     "output_type": "stream",
     "text": [
      "Found 2500 images belonging to 5 classes.\n",
      "Found 500 images belonging to 5 classes.\n",
      "Found 500 images belonging to 5 classes.\n"
     ]
    }
   ],
   "source": [
    "train_itt=dataGen.flow_from_directory(directory=train_dir,batch_size=64,target_size=(100,100))\n",
    "test_itt=dataGen.flow_from_directory(directory=test_dir,batch_size=64,target_size=(100,100))\n",
    "val_itt=dataGen.flow_from_directory(directory=val_dir,batch_size=64,target_size=(100,100))"
   ]
  },
  {
   "cell_type": "markdown",
   "id": "a33e873e",
   "metadata": {},
   "source": [
    "## Model"
   ]
  },
  {
   "cell_type": "code",
   "execution_count": 23,
   "id": "7f8cdc49",
   "metadata": {},
   "outputs": [],
   "source": [
    "model=Sequential()"
   ]
  },
  {
   "cell_type": "code",
   "execution_count": 24,
   "id": "3390e852",
   "metadata": {},
   "outputs": [],
   "source": [
    "model.add(Conv2D(32,(3,3),activation=LeakyReLU(alpha=0.3),input_shape=(100,100,3)))\n",
    "model.add(MaxPooling2D((2,2)))\n",
    "\n",
    "model.add(Conv2D(64,(3,3),activation=LeakyReLU(alpha=0.3)))\n",
    "model.add(MaxPooling2D((2,2)))\n",
    "\n",
    "model.add(Conv2D(128,(3,3),activation=LeakyReLU(alpha=0.3)))\n",
    "model.add(MaxPooling2D((2,2)))\n",
    "\n",
    "model.add(Flatten())\n",
    "\n",
    "model.add(Dense(512,activation=LeakyReLU(alpha=0.3)))\n",
    "model.add(Dense(5,activation='softmax'))\n",
    "\n",
    "model.compile(loss='categorical_crossentropy',optimizer='adam',metrics=['accuracy'])"
   ]
  },
  {
   "cell_type": "code",
   "execution_count": 25,
   "id": "7fca8a42",
   "metadata": {},
   "outputs": [],
   "source": [
    "early_stop= EarlyStopping(monitor='val_loss',patience=3,mode='min',verbose=False)"
   ]
  },
  {
   "cell_type": "code",
   "execution_count": 26,
   "id": "859389f6",
   "metadata": {},
   "outputs": [
    {
     "name": "stdout",
     "output_type": "stream",
     "text": [
      "Epoch 1/50\n",
      "40/40 [==============================] - 42s 1s/step - loss: 0.4932 - accuracy: 0.8228 - val_loss: 0.2463 - val_accuracy: 0.9060\n",
      "Epoch 2/50\n",
      "40/40 [==============================] - 41s 1s/step - loss: 0.1464 - accuracy: 0.9536 - val_loss: 0.1187 - val_accuracy: 0.9440\n",
      "Epoch 3/50\n",
      "40/40 [==============================] - 38s 958ms/step - loss: 0.1374 - accuracy: 0.9524 - val_loss: 0.1318 - val_accuracy: 0.9480\n",
      "Epoch 4/50\n",
      "40/40 [==============================] - 38s 961ms/step - loss: 0.0815 - accuracy: 0.9752 - val_loss: 0.1008 - val_accuracy: 0.9640\n",
      "Epoch 5/50\n",
      "40/40 [==============================] - 39s 969ms/step - loss: 0.0847 - accuracy: 0.9692 - val_loss: 0.1605 - val_accuracy: 0.9420\n",
      "Epoch 6/50\n",
      "40/40 [==============================] - 39s 974ms/step - loss: 0.0655 - accuracy: 0.9764 - val_loss: 0.0921 - val_accuracy: 0.9720\n",
      "Epoch 7/50\n",
      "40/40 [==============================] - 38s 961ms/step - loss: 0.0480 - accuracy: 0.9840 - val_loss: 0.1103 - val_accuracy: 0.9720\n",
      "Epoch 8/50\n",
      "40/40 [==============================] - 38s 959ms/step - loss: 0.0703 - accuracy: 0.9752 - val_loss: 0.1175 - val_accuracy: 0.9640\n",
      "Epoch 9/50\n",
      "40/40 [==============================] - 39s 969ms/step - loss: 0.0666 - accuracy: 0.9772 - val_loss: 0.0928 - val_accuracy: 0.9680\n"
     ]
    },
    {
     "data": {
      "text/plain": [
       "<keras.callbacks.History at 0x2b8a4a84b80>"
      ]
     },
     "execution_count": 26,
     "metadata": {},
     "output_type": "execute_result"
    }
   ],
   "source": [
    "model.fit(train_itt,validation_data=val_itt,epochs=50,callbacks=early_stop)"
   ]
  },
  {
   "cell_type": "code",
   "execution_count": 27,
   "id": "55bf1998",
   "metadata": {},
   "outputs": [
    {
     "data": {
      "text/plain": [
       "<AxesSubplot:>"
      ]
     },
     "execution_count": 27,
     "metadata": {},
     "output_type": "execute_result"
    },
    {
     "data": {
      "image/png": "[encoded data removed]",
      "text/plain": [
       "<Figure size 432x288 with 1 Axes>"
      ]
     },
     "metadata": {
      "needs_background": "light"
     },
     "output_type": "display_data"
    }
   ],
   "source": [
    "losses = pd.DataFrame(model.history.history)\n",
    "losses.plot()"
   ]
  },
  {
   "cell_type": "code",
   "execution_count": 28,
   "id": "06403af8",
   "metadata": {},
   "outputs": [
    {
     "data": {
      "image/png": "[encoded data removed]",
      "text/plain": [
       "<Figure size 432x288 with 1 Axes>"
      ]
     },
     "metadata": {
      "needs_background": "light"
     },
     "output_type": "display_data"
    }
   ],
   "source": [
    "plt.plot(losses['loss'])\n",
    "plt.plot(losses['val_loss'])\n",
    "plt.title('model loss')\n",
    "plt.ylabel('loss')\n",
    "plt.xlabel('no of epochs')\n",
    "plt.legend(['train','test'],loc='upper left')\n",
    "plt.show()"
   ]
  },
  {
   "cell_type": "code",
   "execution_count": 29,
   "id": "41edb659",
   "metadata": {},
   "outputs": [
    {
     "data": {
      "image/png": "[encoded data removed]",
      "text/plain": [
       "<Figure size 432x288 with 1 Axes>"
      ]
     },
     "metadata": {
      "needs_background": "light"
     },
     "output_type": "display_data"
    }
   ],
   "source": [
    "plt.plot(losses['accuracy'])\n",
    "plt.plot(losses['val_accuracy'])\n",
    "plt.title('model loss')\n",
    "plt.ylabel('loss')\n",
    "plt.xlabel('no of epochs')\n",
    "plt.legend(['train','test'],loc='upper left')\n",
    "plt.show()"
   ]
  },
  {
   "cell_type": "code",
   "execution_count": 30,
   "id": "ae3559df",
   "metadata": {},
   "outputs": [],
   "source": [
    "model.save('weather_classification_model.h5')"
   ]
  },
  {
   "cell_type": "code",
   "execution_count": 31,
   "id": "04ff21b1",
   "metadata": {},
   "outputs": [
    {
     "data": {
      "text/plain": [
       "{'Arborio': 0, 'Basmati': 1, 'Ipsala': 2, 'Jasmine': 3, 'Karacadag': 4}"
      ]
     },
     "execution_count": 31,
     "metadata": {},
     "output_type": "execute_result"
    }
   ],
   "source": [
    "class_label= test_itt.class_indices\n",
    "class_label"
   ]
  }
 ],
 "metadata": {
  "kernelspec": {
   "display_name": "Python 3 (ipykernel)",
   "language": "python",
   "name": "python3"
  },
  "language_info": {
   "codemirror_mode": {
    "name": "ipython",
    "version": 3
   },
   "file_extension": ".py",
   "mimetype": "text/x-python",
   "name": "python",
   "nbconvert_exporter": "python",
   "pygments_lexer": "ipython3",
   "version": "3.9.7"
  }
 },
 "nbformat": 4,
 "nbformat_minor": 5
}
